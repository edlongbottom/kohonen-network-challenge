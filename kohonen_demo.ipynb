{
 "cells": [
  {
   "cell_type": "markdown",
   "metadata": {},
   "source": [
    "# Self Organising Map Challenge\n",
    "\n",
    "## The Kohonen Network\n",
    "\n",
    "The Kohonen Self Organizing Map (SOM) provides a data visualization technique which helps to understand high dimensional data by reducing the dimensions of data to a map. SOM also represents clustering concept by grouping similar data together.\n",
    "\n",
    "Unlike other learning technique in neural networks, training a SOM requires no target vector. A SOM learns to classify the training data without any external supervision.\n",
    "\n",
    "![Network](http://www.pitt.edu/~is2470pb/Spring05/FinalProjects/Group1a/tutorial/kohonen1.gif)\n",
    "\n",
    "### Structure\n",
    "A network has a width and a height that descibes the grid of nodes.  For example, the grid may be 4x4, and so there would be 16 nodes.\n",
    "\n",
    "Each node has a weight for each value in the input vector.  A weight is simply a float value that the node multiplies the input value by to determine how influential it is (see below)\n",
    "\n",
    "Each node has a set of weights that match the size of the input vector.  For example, if the input vector has 10 elements, each node would have 10 weights.\n",
    "\n",
    "### Training \n",
    "To train the network\n",
    "\n",
    "1. Each node's weights are initialized.\n",
    "2. We enumerate through the training data for some number of iterations (repeating if necessary).  The current value we are training against will be referred to as the `current input vector`\n",
    "3. Every node is examined to calculate which one's weights are most like the input vector. The winning node is commonly known as the Best Matching Unit (BMU).\n",
    "4. The radius of the neighbourhood of the BMU is now calculated. This is a value that starts large, typically set to the 'radius' of the lattice,  but diminishes each time-step. Any nodes found within this radius are deemed to be inside the BMU's neighbourhood.\n",
    "5. Each neighbouring node's (the nodes found in step 4) weights are adjusted to make them more like the input vector. The closer a node is to the BMU, the more its weights get altered.\n",
    "6. Go to step 2 until we've completed N iterations.\n",
    "    \n",
    "\n",
    "### Calculating the Best Matching Unit (BMU)\n",
    "\n",
    "To determine the best matching unit, one method is to iterate through all the nodes and calculate the Euclidean distance between each node's weight vector and the current input vector. The node with a weight vector closest to the input vector is tagged as the BMU.\n",
    "\n",
    "The Euclidean distance $\\mathsf{distance}_{i}$ (from the input vector $V$ to the $i$th node's weights $W_i$)is given as (using Pythagoras):\n",
    "\n",
    "$$ \\mathsf{distance}_{i}=\\sqrt{\\sum_{k=0}^{k=n}(V_k - W_{i_k})^2}$$\n",
    "\n",
    "where V is the current input vector and $W_i$ is the node's weight vector.  $n$ is the size of the input & weight vector.\n",
    "\n",
    "*Note*: $V$ and $W$ are vectors.  $V$ is the input vector, and $W_i$ is the weight vector of the $i$th node.  $V_k$ and $W_{i_k}$ represent the $k$'th value within those vectors.  \n",
    "\n",
    "The BMU is the node with the minimal distance for the current input vector\n",
    "\n",
    "### Calculating the Neighbourhood Radius\n",
    "\n",
    "The next step is to calculate which of the other nodes are within the BMU's neighbourhood. All these nodes will have their weight vectors altered.\n",
    "\n",
    "First we calculate what the radius of the neighbourhood should be and then use Pythagoras to determine if each node is within the radial distance or not.\n",
    "\n",
    "A unique feature of the Kohonen learning algorithm is that the area of the neighbourhood shrinks over time. To do this we use the exponential decay function:\n",
    "\n",
    "Given a desired number of training iterations $n$:\n",
    "$$n_{\\mathsf{max iterations}} = 100$$\n",
    "\n",
    "Calculate the radius $\\sigma_t$ at iteration number $t$:\n",
    "\n",
    "$$\\sigma_t = \\sigma_0 \\exp\\left(- \\frac{t}{\\lambda} \\right) \\qquad t = 1,2,3,4... $$\n",
    "\n",
    "Where $\\sigma_0$ denotes the neighbourhood radius at iteration $t=0$, $t$ is the current iteration. We define $\\sigma_0$ (the initial radius) and $\\lambda$ (the time constant) as below:\n",
    "\n",
    "$$\\sigma_0 = \\frac{\\max(width,height)}{2} \\qquad \\lambda = \\frac{n_{\\mathsf{max iterations}}}{\\log(\\sigma_0)} $$\n",
    "\n",
    "Where $width$ & $height$ are the width and height of the grid.\n",
    "\n",
    "### Calculating the Learning Rate\n",
    "\n",
    "We define the initial leanring rate $\\alpha_0$ at iteration $t = 0$ as:\n",
    "$$\\alpha_0 = 0.1$$\n",
    "\n",
    "So, we can calculate the learning rate at a given iteration t as:\n",
    "\n",
    "$$\\alpha_t = \\alpha_0 \\exp \\left(- \\frac{t}{\\lambda} \\right) $$\n",
    "\n",
    "where $t$ is the iteration number, $\\lambda$ is the time constant (calculated above)\n",
    "        \n",
    "### Calculating the Influence\n",
    "\n",
    "As well as the learning rate, we need to calculate the influence $\\theta_t$ of the learning/training at a given iteration $t$.  \n",
    "\n",
    "So for each node, we need to caclulate the euclidean distance $d_i$ from the BMU to that node.  Similar to when we calculate the distance to find the BMU, we use Pythagoras.  The current ($i$th) node's x position is given by $x(W_i)$, and the BMU's x position is, likewise, given by $x(Z)$.  Similarly, $y()$ returns the y position of a node.\n",
    "\n",
    "$$ d_{i}=\\sqrt{(x(W_i) - x(Z))^2 + (y(W_i) - y(Z))^2} $$\n",
    "\n",
    "Then, the influence decays over time according to:\n",
    "\n",
    "$$\\theta_t = \\exp \\left( - \\frac{d_{i}^2}{2\\sigma_t^2} \\right) $$\n",
    "\n",
    "Where $\\sigma_t$ is the neighbourhood radius at iteration $t$ as calculated above. \n",
    "\n",
    "Note: You will need to come up with an approach to x() and y().\n",
    "\n",
    "\n",
    "### Updating the Weights\n",
    "\n",
    "To update the weights of a given node, we use:\n",
    "\n",
    "$$W_{i_{t+1}} = W_{i_t} + \\alpha_t \\theta_t (V_t - W_{i_t})$$\n",
    "        \n",
    "So $W_{i_{t+1}}$ is the new value of the weight for the $i$th node, $V_t$ is the current value of the training data, $W_{i_t}$ is the current weight and $\\alpha_t$ and $\\theta_t$ are the learning rate and influence calculated above.\n",
    "\n",
    "*Note*: the $W$ and $V$ are vectors "
   ]
  },
  {
   "cell_type": "markdown",
   "metadata": {},
   "source": [
    "## Challenge\n",
    "\n",
    "In this challenge, you need to implement a SOM such that it can categorise a set of random 3-dimensional colours.  The output should be an image of the organised data.  \n",
    "\n",
    "### Expectations and Criteria\n",
    "- Be prepared to talk through your decisions & thinking (we encourage you to include these in code comments too!)\n",
    "- You may use any language you like (the examples given below are using Python)\n",
    "- Avoid libraries that would do too much of the work for you. For example, in Python a good approach would be to use `numpy`, but no packages with SOM specific functionality\n",
    "- Try and make your code as efficient as possible. Feel free to deviate from a literal interpretation of the instructions given under the **Training** heading above\n",
    "- Consider the best way to structure your code and code base for later use by other developers or in anticipation of productionisation (you don't need to use a Jupyter Notebook)\n",
    "- Include any tests you may have used (tests are not required however)\n",
    "- Include a `Dockerfile` to package your code for production\n",
    "- Be prepared to discuss your approach and process to productionise this application\n",
    "- You can use code below to generate the trainig data of 10 colours:"
   ]
  },
  {
   "cell_type": "code",
   "execution_count": 1,
   "metadata": {},
   "outputs": [
    {
     "data": {
      "text/plain": [
       "array([[0.38711768, 0.40497088, 0.36455498],\n",
       "       [0.55040406, 0.55691378, 0.73806275],\n",
       "       [0.5955337 , 0.59119625, 0.36346229],\n",
       "       [0.47802936, 0.28171859, 0.26053508],\n",
       "       [0.74960904, 0.87419233, 0.56152204],\n",
       "       [0.01632408, 0.57650699, 0.61320027],\n",
       "       [0.88264202, 0.29895703, 0.203183  ],\n",
       "       [0.20363962, 0.15181928, 0.390754  ],\n",
       "       [0.90013714, 0.02839298, 0.92458299],\n",
       "       [0.30298734, 0.33030391, 0.90646957]])"
      ]
     },
     "execution_count": 1,
     "metadata": {},
     "output_type": "execute_result"
    }
   ],
   "source": [
    "# Generate Data\n",
    "import numpy as np\n",
    "input_data = np.random.random((10,3))\n",
    "input_data"
   ]
  },
  {
   "cell_type": "markdown",
   "metadata": {},
   "source": [
    "### 1. Implement a Kohonen network\n",
    "- Use the above description to implement a Kohonen network\n",
    "- Make sure you can configure the size of the input vector and the size of the map\n",
    "- Make sure node's weights are initialized to random values"
   ]
  },
  {
   "cell_type": "code",
   "execution_count": 3,
   "metadata": {},
   "outputs": [],
   "source": [
    "# Implement the network..."
   ]
  },
  {
   "cell_type": "code",
   "execution_count": 2,
   "metadata": {},
   "outputs": [],
   "source": [
    "### Functions\n",
    "\"\"\"\n",
    "# BMU calculator - v1\n",
    "def BMU_calculator(V, node_weights, num_nodes, num_features):\n",
    "    '''Returns index of node weights that corresponds to the node that is BMU and associated euclidean distance'''\n",
    "    euc_dis = []\n",
    "    # for each node i\n",
    "    for i in range(0, num_nodes):        \n",
    "        distances = []\n",
    "        # for each feature k, calculate the distance \n",
    "        for k in range(0, num_features):\n",
    "            distances.append((V[k] - node_weights[i][k])**2)\n",
    "        euc_dis.append(np.sqrt(np.sum(distances)))\n",
    "        \n",
    "    return euc_dis.index(min(euc_dis)), min(euc_dis)\n",
    "\"\"\"\n",
    "\n",
    "# Improved BMU calculator\n",
    "def BMU_calculator(V, node_weights):\n",
    "    '''Returns index of node in node weights that is the BMU'''\n",
    "    \n",
    "    # calculate an array of euclidean distances between nodes and the input data \n",
    "    euc_distances = np.sqrt(np.sum((V - node_weights)**2,axis=1))\n",
    "    \n",
    "    # extract the index of the distances array with the minimum value\n",
    "    bmu_idx = np.where(euc_distances == np.min(euc_distances))[0][0]\n",
    "    \n",
    "    return bmu_idx "
   ]
  },
  {
   "cell_type": "code",
   "execution_count": 3,
   "metadata": {},
   "outputs": [],
   "source": [
    "# Get neighborhood nodes\n",
    "def get_nbr_nodes(node_coords, bmu_idx, n_rad):\n",
    "    '''Return list of indexes of nodes that fall within neighborhood radius of BMU'''\n",
    "    \n",
    "    # convert node coordinates into a numpy array \n",
    "    node_coords = np.array(node_coords)\n",
    "    \n",
    "    # calculate an array of euclidean distances between nodes and the BMU\n",
    "    euc_dis = np.sqrt(np.sum((node_coords - node_coords[bmu_idx])**2, axis=1))\n",
    "    \n",
    "    return list(np.where(euc_dis <= n_rad)[0])"
   ]
  },
  {
   "cell_type": "code",
   "execution_count": 4,
   "metadata": {},
   "outputs": [],
   "source": [
    "\"\"\"\n",
    "# update weight equation v1\n",
    "def update_weights(t, node_idx, bmu_idx, V, node_weights, node_coords, time_constant, nbr_rad):\n",
    "    ''' Returns the updated weights for a given node (node_idx) and iteration (t)'''\n",
    "    \n",
    "    # retrieve weights for current node\n",
    "    curr_weights = node_weights[node_idx]\n",
    "    \n",
    "    # calculate learning rate for current iteration, t\n",
    "    learning_rate = 0.1*np.exp(-t/time_constant)\n",
    "    \n",
    "    # calculate euclidean distance between current node and BMU in coordinate space\n",
    "    euc_d = np.sqrt((node_coords[node_idx][0]-node_coords[bmu_idx][0])**2 + (node_coords[node_idx][1]-node_coords[bmu_idx][1])**2)\n",
    "    \n",
    "    # calculate influence\n",
    "    influence = np.exp(-euc_d**2 / (2*nbr_rad**2))\n",
    "    \n",
    "    # return updated weight\n",
    "    return curr_weights + learning_rate*influence*(V - curr_weights) \n",
    "\"\"\"\n",
    "\n",
    "# update weights (all nbr nodes)\n",
    "def update_weights_nbrs(t, bmu_idx, V, nbr_nodes, node_weights, node_coords, time_constant, nbr_rad):\n",
    "    ''' Returns updated weights for all nodes based on proximity to BMU'''\n",
    "    # calculate learning rate\n",
    "    learning_rate = 0.1*np.exp(-t/time_constant)\n",
    "    \n",
    "    # index node_weights to get neighbors only\n",
    "    nbr_node_weights = node_weights[nbr_nodes]\n",
    "\n",
    "    # convert node_coords into array and index\n",
    "    nbr_node_coords = np.array(node_coords)[nbr_nodes]\n",
    "    bmu_coords = np.array(node_coords[bmu_idx])\n",
    "\n",
    "    # find distance in coordindate space between each node and BMU -  sqrt( (X2 - X1)^2 + (Y2 - Y1)^2 )\n",
    "    euc_dis = np.sqrt(np.sum((bmu_coords - nbr_node_coords)**2,axis=1))\n",
    "    \n",
    "    # calculates the influences for the neighborhood nodes\n",
    "    influences = np.exp(-euc_dis**2 / (2*nbr_rad**2)) \n",
    "    \n",
    "    # adjust the current weights using the weight update equation\n",
    "    node_weights[nbr_nodes] = nbr_node_weights + learning_rate*(influences*(V - nbr_node_weights).T).T \n",
    "\n",
    "    return node_weights"
   ]
  },
  {
   "cell_type": "code",
   "execution_count": 5,
   "metadata": {},
   "outputs": [],
   "source": [
    "# main run through\n",
    "\n",
    "# define network structure\n",
    "sizeX, sizeY = 10, 10\n",
    "num_nodes = sizeX*sizeY\n",
    "node_list = list(range(0,num_nodes))\n",
    "node_coords = [[x,y] for y in range(0,sizeY) for x in range(0,sizeX)]\n",
    "\n",
    "# define variables and constants\n",
    "nmax_iter = 100                                # desired number of training iterations \n",
    "N = input_data.shape[0]                        # number of training samples, N\n",
    "num_features = input_data.shape[1]             # number of features in input X\n",
    "init_rad = max(sizeX,sizeY) / 2                # initial neighbourhood radius\n",
    "time_constant = nmax_iter / np.log(init_rad)   # time constant \n",
    "\n",
    "### step 1: randomly initialize weights\n",
    "# for each node, randomly initialize a vector of weights of length number of features\n",
    "node_weights = np.random.random((num_nodes,num_features))\n",
    "\n",
    "### step 2: iterate through training data \n",
    "# loop through t from 0 to max iterations\n",
    "for t in range(1, nmax_iter+1):\n",
    "\n",
    "    # using one record of training data at a time, V\n",
    "    for idx, V in enumerate(input_data):\n",
    "\n",
    "        ### step 3: determine the bets matching unit\n",
    "        # determine the index of node_list/node_coords that corresponds to BMU\n",
    "        bmu_idx = BMU_calculator(V, node_weights)\n",
    "\n",
    "        ### step 4: calculate which nodes are in the BMU's neighbourhood\n",
    "        # step 4a: calculate the radius of the neighbourhood of the BMU\n",
    "        nbr_rad = init_rad*np.exp(-t / time_constant)\n",
    "\n",
    "        # step 4b: work out which nodes are within the radius\n",
    "        nbr_nodes = get_nbr_nodes(node_coords, bmu_idx, nbr_rad)\n",
    "\n",
    "        #### step 5: adjust the weights of the nodes within the radius\n",
    "        node_weights = update_weights_nbrs(t, bmu_idx, V, nbr_nodes, node_weights, node_coords, time_constant, nbr_rad)"
   ]
  },
  {
   "cell_type": "code",
   "execution_count": 6,
   "metadata": {},
   "outputs": [],
   "source": [
    "# translate node weights into pixel data\n",
    "node_pixels = np.reshape(node_weights, (sizeX,sizeY,3))"
   ]
  },
  {
   "cell_type": "code",
   "execution_count": 24,
   "metadata": {},
   "outputs": [],
   "source": [
    "class kohonen():\n",
    "    \n",
    "    def __init__(self, sizeX, sizeY):\n",
    "        self.sizeX, self.sizeY = sizeX, sizeY\n",
    "        self.num_nodes = sizeX*sizeY\n",
    "        self.node_coords = np.array([[x,y] for y in range(0, self.sizeY) for x in range(0,self.sizeX)])\n",
    "        \n",
    "    def train(self, input_data, nmax_iter):\n",
    "        ''' Train the SOM with the input training data'''\n",
    "        node_weights = np.random.random((self.num_nodes, input_data.shape[1]))\n",
    "\n",
    "        init_rad = max(self.sizeX, self.sizeY) / 2\n",
    "        time_constant = nmax_iter / np.log(init_rad)\n",
    "        \n",
    "        for t in range(1, nmax_iter+1):\n",
    "            for idx, V in enumerate(input_data):\n",
    "                bmu_idx = self.BMU_calculator(V, node_weights)\n",
    "                nbr_rad = init_rad*np.exp(-t / time_constant)\n",
    "                nbr_nodes = self.get_nbr_nodes(bmu_idx, nbr_rad)\n",
    "                node_weights = self.update_weights_nbrs(t, bmu_idx, V, nbr_nodes, node_weights, time_constant, nbr_rad)\n",
    "\n",
    "        return node_weights\n",
    "        \n",
    "    \n",
    "    def BMU_calculator(self, V, node_weights):\n",
    "        '''Returns index of node in node weights that is the BMU'''\n",
    "        euc_distances = np.sqrt(np.sum((V - node_weights)**2,axis=1))\n",
    "        return np.where(euc_distances == np.min(euc_distances))[0][0]\n",
    "        \n",
    "    def get_nbr_nodes(self, bmu_idx, nbr_rad):\n",
    "        '''Return list of indexes of nodes that fall within neighborhood radius of BMU'''\n",
    "        euc_dis = np.sqrt(np.sum((self.node_coords - self.node_coords[bmu_idx])**2, axis=1))\n",
    "        return list(np.where(euc_dis <= nbr_rad)[0])\n",
    "    \n",
    "    def update_weights_nbrs(self, t, bmu_idx, V, nbr_nodes, node_weights, time_constant, nbr_rad):\n",
    "        ''' Returns updated weights for all nodes based on proximity to BMU'''\n",
    "        learning_rate = 0.1*np.exp(-t/time_constant)\n",
    "        nbr_node_weights = node_weights[nbr_nodes]\n",
    "        nbr_node_coords, bmu_coords  = self.node_coords[nbr_nodes], self.node_coords[bmu_idx]\n",
    "\n",
    "        euc_dis = np.sqrt(np.sum((bmu_coords - nbr_node_coords)**2,axis=1))\n",
    "        influences = np.exp(-euc_dis**2 / (2*nbr_rad**2)) \n",
    "        node_weights[nbr_nodes] = nbr_node_weights + learning_rate*(influences*(V - nbr_node_weights).T).T \n",
    "        return node_weights\n",
    "    \n",
    "    def __str__(self):\n",
    "        return f'Kohonen network of shape ({self.sizeX},{self.sizeY})'"
   ]
  },
  {
   "cell_type": "markdown",
   "metadata": {},
   "source": [
    "### 2. Train a 10x10 network over 100 iterations\n",
    "\n",
    "- Training data is a random set of 20 colours\n",
    "- How long does this take?\n",
    "- What does the map look like? (You will need to translate the weights of each node in the map to pixel data)\n",
    "- What does this look like if you perform 200 & 500 iterations?\n",
    "\n",
    "You should end up with something that looks like below after 500 iterations:"
   ]
  },
  {
   "cell_type": "code",
   "execution_count": 147,
   "metadata": {},
   "outputs": [
    {
     "data": {
      "text/plain": [
       "<matplotlib.image.AxesImage at 0x7fce01327978>"
      ]
     },
     "execution_count": 147,
     "metadata": {},
     "output_type": "execute_result"
    },
    {
     "data": {
      "image/png": "[encoded data removed]",
      "text/plain": [
       "<Figure size 432x288 with 1 Axes>"
      ]
     },
     "metadata": {
      "needs_background": "light"
     },
     "output_type": "display_data"
    }
   ],
   "source": [
    "import matplotlib.pyplot as plt\n",
    "plt.imshow(image_data)"
   ]
  },
  {
   "cell_type": "code",
   "execution_count": 34,
   "metadata": {},
   "outputs": [
    {
     "data": {
      "image/png": "[encoded data removed]",
      "text/plain": [
       "<Figure size 1152x288 with 4 Axes>"
      ]
     },
     "metadata": {
      "needs_background": "light"
     },
     "output_type": "display_data"
    }
   ],
   "source": [
    "import matplotlib.pyplot as plt\n",
    "\n",
    "input_data = np.random.random((20,3))\n",
    "fig, axes = plt.subplots(nrows=1,ncols=4,figsize=(16,4))\n",
    "\n",
    "for idx, niter in enumerate([100,200,500,1000]):\n",
    "    som = kohonen(10,10)\n",
    "    node_weights = som.train(input_data, nmax_iter=niter)\n",
    "    node_pixels = np.reshape(node_weights, (10,10,3))\n",
    "    axes[idx].imshow(node_pixels, origin='lower')"
   ]
  },
  {
   "cell_type": "markdown",
   "metadata": {},
   "source": [
    "### 3. Train a 100x100 network over 1000 iterations\n",
    "\n",
    "- This network will likely be significantly slower to train\n",
    "- What could you do to improve performance?\n",
    "- What does the network look like after 1000 iterations?\n",
    "\n",
    "You should end up with something like below:"
   ]
  },
  {
   "cell_type": "code",
   "execution_count": 141,
   "metadata": {},
   "outputs": [
    {
     "data": {
      "text/plain": [
       "<matplotlib.image.AxesImage at 0x7fce012f8208>"
      ]
     },
     "execution_count": 141,
     "metadata": {},
     "output_type": "execute_result"
    },
    {
     "data": {
      "image/png": "[encoded data removed]",
      "text/plain": [
       "<Figure size 432x288 with 1 Axes>"
      ]
     },
     "metadata": {
      "needs_background": "light"
     },
     "output_type": "display_data"
    }
   ],
   "source": [
    "import matplotlib.pyplot as plt\n",
    "plt.imshow(image_data)"
   ]
  },
  {
   "cell_type": "code",
   "execution_count": 32,
   "metadata": {},
   "outputs": [
    {
     "data": {
      "text/plain": [
       "<matplotlib.image.AxesImage at 0x24b89f05e50>"
      ]
     },
     "execution_count": 32,
     "metadata": {},
     "output_type": "execute_result"
    },
    {
     "data": {
      "image/png": "[encoded data removed]",
      "text/plain": [
       "<Figure size 432x288 with 1 Axes>"
      ]
     },
     "metadata": {
      "needs_background": "light"
     },
     "output_type": "display_data"
    }
   ],
   "source": [
    "# train a 100x100 network with 1000 iterations\n",
    "input_data = np.random.random((20,3))\n",
    "som = kohonen(100, 100)\n",
    "node_weights = som.train(input_data, nmax_iter=1000)\n",
    "node_pixels = np.reshape(node_weights, (100,100,3))\n",
    "plt.imshow(node_pixels, origin='lower')"
   ]
  },
  {
   "cell_type": "code",
   "execution_count": null,
   "metadata": {},
   "outputs": [],
   "source": []
  }
 ],
 "metadata": {
  "kernelspec": {
   "display_name": "Python 3 (ipykernel)",
   "language": "python",
   "name": "python3"
  },
  "language_info": {
   "codemirror_mode": {
    "name": "ipython",
    "version": 3
   },
   "file_extension": ".py",
   "mimetype": "text/x-python",
   "name": "python",
   "nbconvert_exporter": "python",
   "pygments_lexer": "ipython3",
   "version": "3.9.6"
  }
 },
 "nbformat": 4,
 "nbformat_minor": 2
}

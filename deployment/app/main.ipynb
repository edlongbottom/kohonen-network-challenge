{
 "cells": [
  {
   "cell_type": "code",
   "execution_count": null,
   "metadata": {},
   "outputs": [],
   "source": [
    "import numpy as np\n",
    "import matplotlib.pyplot as plt\n",
    "from kohonen import Kohonen"
   ]
  },
  {
   "cell_type": "code",
   "execution_count": null,
   "metadata": {},
   "outputs": [],
   "source": [
    "def run_model(input_data, sizeX, sizeY, max_iter):\n",
    "    ''' Return image data after creating and training network on input data '''\n",
    "    som = Kohonen(sizeX, sizeY)\n",
    "    node_weights = som.train(input_data, nmax_iter=max_iter)\n",
    "    image_pixels = np.reshape(node_weights, (sizeX,sizeY,3))\n",
    "    return image_pixels"
   ]
  },
  {
   "cell_type": "code",
   "execution_count": null,
   "metadata": {},
   "outputs": [],
   "source": [
    "sizeX, sizeY = 10,10 \n",
    "nmax_iter=100\n",
    "input_data = np.random.random((20,3))\n",
    "\n",
    "image_data = run_model(input_data, sizeX, sizeY, nmax_iter)\n",
    "plt.imshow(image_data)"
   ]
  }
 ],
 "metadata": {
  "language_info": {
   "name": "python"
  },
  "orig_nbformat": 4
 },
 "nbformat": 4,
 "nbformat_minor": 2
}
